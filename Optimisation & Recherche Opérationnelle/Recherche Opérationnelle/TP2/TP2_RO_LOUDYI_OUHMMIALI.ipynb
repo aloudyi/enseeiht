{
 "cells": [
  {
   "cell_type": "markdown",
   "metadata": {},
   "source": [
    "# TP 2-3 : Branch-and-bound applied to a knapsack problem"
   ]
  },
  {
   "cell_type": "markdown",
   "metadata": {},
   "source": [
    "### Initialisation (à faire une seule fois)"
   ]
  },
  {
   "cell_type": "code",
   "execution_count": 1,
   "metadata": {},
   "outputs": [
    {
     "name": "stderr",
     "output_type": "stream",
     "text": [
      "\u001b[32m\u001b[1m    Updating\u001b[22m\u001b[39m registry at `C:\\Users\\zenon\\.julia\\registries\\General`\n",
      "\u001b[32m\u001b[1m    Updating\u001b[22m\u001b[39m git-repo `https://github.com/JuliaRegistries/General.git`\n",
      "\u001b[32m\u001b[1m   Resolving\u001b[22m\u001b[39m package versions...\n",
      "\u001b[32m\u001b[1m  No Changes\u001b[22m\u001b[39m to `C:\\Users\\zenon\\.julia\\environments\\v1.6\\Project.toml`\n",
      "\u001b[32m\u001b[1m  No Changes\u001b[22m\u001b[39m to `C:\\Users\\zenon\\.julia\\environments\\v1.6\\Manifest.toml`\n",
      "\u001b[32m\u001b[1m   Resolving\u001b[22m\u001b[39m package versions...\n",
      "\u001b[32m\u001b[1m  No Changes\u001b[22m\u001b[39m to `C:\\Users\\zenon\\.julia\\environments\\v1.6\\Project.toml`\n",
      "\u001b[32m\u001b[1m  No Changes\u001b[22m\u001b[39m to `C:\\Users\\zenon\\.julia\\environments\\v1.6\\Manifest.toml`\n"
     ]
    }
   ],
   "source": [
    "import Pkg; \n",
    "Pkg.add(\"GraphRecipes\"); Pkg.add(\"Plots\"); \n",
    "using GraphRecipes, Plots #only used to visualize the search tree at the end of the branch-and-bound"
   ]
  },
  {
   "cell_type": "markdown",
   "metadata": {},
   "source": [
    "### Lecture des données"
   ]
  },
  {
   "cell_type": "code",
   "execution_count": 2,
   "metadata": {},
   "outputs": [
    {
     "data": {
      "text/plain": [
       "readKnaptxtInstance (generic function with 1 method)"
      ]
     },
     "execution_count": 2,
     "metadata": {},
     "output_type": "execute_result"
    }
   ],
   "source": [
    "function readKnaptxtInstance(filename)\n",
    "    price=[]\n",
    "    weight=[]\n",
    "    KnapCap=[]\n",
    "    open(filename) do f\n",
    "        for i in 1:3\n",
    "            tok = split(readline(f))\n",
    "            if(tok[1] == \"ListPrices=\")\n",
    "                for i in 2:(length(tok)-1)\n",
    "                    push!(price,parse(Int64, tok[i]))\n",
    "                end\n",
    "            elseif(tok[1] == \"ListWeights=\")\n",
    "                for i in 2:(length(tok)-1)\n",
    "                    push!(weight,parse(Int64, tok[i]))\n",
    "                end\n",
    "            elseif(tok[1] == \"Capacity=\")\n",
    "                push!(KnapCap, parse(Int64, tok[2]))\n",
    "            else\n",
    "                println(\"Unknown read :\", tok)\n",
    "            end \n",
    "        end\n",
    "    end\n",
    "    capacity=KnapCap[1]\n",
    "    return price, weight, capacity\n",
    "end"
   ]
  },
  {
   "cell_type": "markdown",
   "metadata": {},
   "source": [
    "### Tests de sondabilités TA, TO et TR pour le cas de la relaxation linéaire"
   ]
  },
  {
   "cell_type": "code",
   "execution_count": 3,
   "metadata": {},
   "outputs": [
    {
     "data": {
      "text/plain": [
       "TestsSondabilite_relaxlin (generic function with 1 method)"
      ]
     },
     "execution_count": 3,
     "metadata": {},
     "output_type": "execute_result"
    }
   ],
   "source": [
    "function TestsSondabilite_relaxlin(BestProfit, Bestsol, varsshouldbebinary, infeasible, objective::Function)\n",
    "    TA, TO, TR = false, false, false # Initialisation des variables de sortie\n",
    "    roundbin = zeros(length(varsshouldbebinary)) # variable intermédiaire pour comparer si la solution est binaire (0 ou 1)\n",
    "    diffabs = zeros(length(varsshouldbebinary)) # différence entre la variable intermédiaire et la solution\n",
    "    \n",
    "    #Initialisation des vars intermédiaires\n",
    "    for i in 1:length(varsshouldbebinary)\n",
    "        roundbin[i] = round(varsshouldbebinary[i], digits = 0)\n",
    "        diffabs[i] = abs(roundbin[i]-varsshouldbebinary[i])\n",
    "    end\n",
    "    \n",
    "   if(infeasible)#Test de faisabilite\n",
    "        TA=true\n",
    "        println(\"TA\")\n",
    "    elseif(objective(varsshouldbebinary) <= BestProfit) # Test d'optimalité\n",
    "        TO=true\n",
    "        println(\"TO\")\n",
    "    elseif sum(diffabs) <= 10^-5 #Test de resolution\n",
    "        TR=true\n",
    "        println(\"TR\")\n",
    "        # Si variables binaires on met à jour la (meilleure) solution et le (meilleur) profit retenu\n",
    "        if (objective(varsshouldbebinary) >= BestProfit)\n",
    "            Bestsol = varsshouldbebinary\n",
    "            BestProfit = objective(varsshouldbebinary)\n",
    "        end\n",
    "    else\n",
    "        println(\"non sondable\")\n",
    "    end\n",
    "    TA, TO, TR, Bestsol, BestProfit\n",
    "end\n"
   ]
  },
  {
   "cell_type": "markdown",
   "metadata": {},
   "source": [
    "### Procédure de séparation"
   ]
  },
  {
   "cell_type": "code",
   "execution_count": 4,
   "metadata": {},
   "outputs": [
    {
     "data": {
      "text/plain": [
       "SeparerNoeud_relaxlin (generic function with 1 method)"
      ]
     },
     "execution_count": 4,
     "metadata": {},
     "output_type": "execute_result"
    }
   ],
   "source": [
    "function SeparerNoeud_relaxlin(varsshouldbebinary, listvars, listvals)\n",
    "    # le noeud est non-sondable. Appliquer le critère de séparation pour le séparer en sous-noeuds \n",
    "    # et choisir un noeud-fils le plus à gauche   \n",
    "    \n",
    "    #find a fractionnal variable\n",
    "    i, var = 1, 0\n",
    "    while((i <= length(varsshouldbebinary)) && (var==0))\n",
    "        #if(varsshouldbebinary[i] ∉ listvars)\n",
    "        if(abs(round(varsshouldbebinary[i], digits=0) - varsshouldbebinary[i] ) >= 10^-5)\n",
    "            var=i # On renvoie l'indice de la variable fractionnaire on séparera ce noeud sur cette variable\n",
    "        end\n",
    "        i+=1\n",
    "    end\n",
    "    \n",
    "    push!(listvars,var) #stocker l'identite de la variable choisie pour la séparation\n",
    "    push!(listvals,1.0) #stocker la branche choisie, identifiee par la valeur de la variable choisie\n",
    "    listvars, listvals\n",
    "end\n"
   ]
  },
  {
   "cell_type": "markdown",
   "metadata": {},
   "source": [
    "### Stratégie d'exploration"
   ]
  },
  {
   "cell_type": "code",
   "execution_count": 5,
   "metadata": {},
   "outputs": [
    {
     "data": {
      "text/plain": [
       "ExplorerAutreNoeud_relaxlin (generic function with 1 method)"
      ]
     },
     "execution_count": 5,
     "metadata": {},
     "output_type": "execute_result"
    }
   ],
   "source": [
    "function ExplorerAutreNoeud_relaxlin(listvars, listvals, listnodes)\n",
    "    #this node is sondable, go back to parent node then right child if possible\n",
    "    \n",
    "    stop=false\n",
    "    #check if we are not at the root node\n",
    "    if (length(listvars)>= 1)\n",
    "        #go back to parent node\n",
    "        var=pop!(listvars)\n",
    "        theval=pop!(listvals)\n",
    "        tmp=pop!(listnodes)\n",
    "\n",
    "\n",
    "        #go to right child if possible, otherwise go back to parent\n",
    "        while( (theval==0.0) && (length(listvars)>= 1))\n",
    "            var=pop!(listvars)\n",
    "            theval=pop!(listvals)\n",
    "            tmp=pop!(listnodes)\n",
    "\n",
    "        end\n",
    "        if theval==1.0\n",
    "            push!(listvars,var)\n",
    "            push!(listvals,0.0)\n",
    "        else\n",
    "            println(\"\\nFINISHED\")\n",
    "            stop=true\n",
    "        end\n",
    "    else\n",
    "        #the root node was sondable\n",
    "        println(\"\\nFINISHED\")\n",
    "        stop=true\n",
    "    end\n",
    "    listvars, listvals, listnodes, stop \n",
    "end"
   ]
  },
  {
   "cell_type": "markdown",
   "metadata": {},
   "source": [
    "### Relaxation Linéaire"
   ]
  },
  {
   "cell_type": "code",
   "execution_count": 6,
   "metadata": {},
   "outputs": [
    {
     "data": {
      "text/plain": [
       "CalculerBorne_relaxlin (generic function with 1 method)"
      ]
     },
     "execution_count": 6,
     "metadata": {},
     "output_type": "execute_result"
    }
   ],
   "source": [
    "function CalculerBorne_relaxlin(ratio_index,listvars,listvals,price,weight,capacity)\n",
    "    # initialisation des variables\n",
    "    borne = 0 # borne supérieure\n",
    "    capacite = capacity # capacité initiale\n",
    "    infeasible = false # booléen du test d'admissibilité\n",
    "    varsshouldbebinary = zeros(length(price)) # intialisation du vecteur solution \n",
    "    i = 1 # indice initiale pour parcourir nos vecteur dans la dernière boucle\n",
    "    \n",
    "    # On reprend les anciennes valeurs sur lesquels on s'est mis d'accord dans ce noeud\n",
    "    for i in 1:length(listvars)\n",
    "        index = listvars[i]\n",
    "        varsshouldbebinary[index] = listvals[i]\n",
    "        borne = borne + listvals[i]*price[index]\n",
    "        capacite = capacite -listvals[i]*weight[index]\n",
    "    end\n",
    "    \n",
    "    # Test d'admissibilité\n",
    "    if(capacite<0.0)\n",
    "        infeasible = true\n",
    "    end\n",
    "    \n",
    "    # On essaie de remplir le sac avec de nouveaux objets\n",
    "    while(capacite>0.0 && i <= length(price))\n",
    "        index = ratio_index[i]\n",
    "        if !(index in listvars)\n",
    "            if((capacite - weight[index])>=0)\n",
    "                borne = borne + price[index]\n",
    "                varsshouldbebinary[index] = 1.0\n",
    "                capacite = capacite - weight[index]\n",
    "            else\n",
    "                borne = borne + (capacite/weight[index])*price[index]\n",
    "                varsshouldbebinary[index] = (capacite/weight[index]) # Si on déborde capacite/weight[i] = 0 car capacite sera nulle\n",
    "                capacite = capacite - (capacite/weight[index])*weight[index] # égal à 0 si (la capacité moins le poids de l'indice) est négative\n",
    "            end\n",
    "        end\n",
    "        i = i +1 # mise à jour de l'indice d'itération\n",
    "    end\n",
    "    return infeasible,varsshouldbebinary,borne\n",
    "end"
   ]
  },
  {
   "cell_type": "markdown",
   "metadata": {},
   "source": [
    "### Boucle principale : résoudre la relaxation linéaire, appliquer les tests de sondabilité, identifier le prochain noeud, répéter."
   ]
  },
  {
   "cell_type": "code",
   "execution_count": 7,
   "metadata": {},
   "outputs": [
    {
     "data": {
      "text/plain": [
       "SolveKnapInstance (generic function with 1 method)"
      ]
     },
     "execution_count": 7,
     "metadata": {},
     "output_type": "execute_result"
    }
   ],
   "source": [
    "function SolveKnapInstance(filename)\n",
    "    # Initialisation (Création du Modèle)\n",
    "    price, weight, capacity = readKnaptxtInstance(filename)\n",
    "    n = length(price) # dimension des vecteurs\n",
    "    ratio = price./weight # ratio prix/poids\n",
    "    ratio_index = sortperm(ratio, rev = true) # indices des ratios triés du plus grand au plus petit\n",
    "    varsshouldbebinary = zeros(n) # vecteur solution initialisé à 0\n",
    "        \n",
    "    # fonction objectif\n",
    "    function objective(x)\n",
    "        return sum(x.*price)\n",
    "    end\n",
    "    \n",
    "    #create the structure to memorize the search tree for visualization at the end\n",
    "    trParentnodes=Int64[] #will store orig node of arc in search tree\n",
    "    trChildnodes=Int64[] #will store destination node of arc in search tree\n",
    "    trNamenodes=[] #will store names of nodes in search tree\n",
    "        \n",
    "    #intermediate structure to navigate in the search tree\n",
    "    listvars=[]\n",
    "    listvals=[]\n",
    "    listnodes=[]\n",
    "\n",
    "    BestProfit=-1\n",
    "    Bestsol=[]\n",
    "\n",
    "    current_node_number=0\n",
    "    stop = false\n",
    "\n",
    "    while (!stop)\n",
    "\n",
    "        #Update the search tree\n",
    "        push!(trNamenodes,current_node_number+1) \n",
    "        if (length(trNamenodes)>=2)\n",
    "            push!(trParentnodes,listnodes[end]+1) # +1 because the 1st node is \"node 0\"\n",
    "            push!(trChildnodes, current_node_number+1) # +1 because the 1st node is \"node 0\"\n",
    "        end\n",
    "        push!(listnodes, current_node_number)\n",
    "        \n",
    "        # Calcul de la borne supérieur et mise à jour du vecteur solution\n",
    "        infeasible,varsshouldbebinary,borne = CalculerBorne_relaxlin(ratio_index,listvars,listvals,price,weight,capacity)\n",
    "            \n",
    "        # Réalisation des tests de sondabilité\n",
    "        TA, TO, TR, Bestsol, BestProfit =  TestsSondabilite_relaxlin(BestProfit, Bestsol, varsshouldbebinary, infeasible, objective)\n",
    "            \n",
    "        is_node_sondable = TA || TO || TR\n",
    "        # Si le noeud n'est pas sondable :\n",
    "        if (!is_node_sondable)\n",
    "            # On sépare le noeud en 2 sous noeuds\n",
    "            listvars, listvals = SeparerNoeud_relaxlin(varsshouldbebinary, listvars, listvals)\n",
    "        else\n",
    "            # Sinon : \n",
    "            # On explore les autres noeuds à disposition\n",
    "            listvars, listvals, listnodes, stop = ExplorerAutreNoeud_relaxlin(listvars, listvals, listnodes)\n",
    "        end\n",
    "        \n",
    "        # Mise à jour du numéro du noeud actuel (on s'en sert pour afficher le graphe)\n",
    "        current_node_number = current_node_number + 1\n",
    "    end\n",
    "    \n",
    "    return BestProfit, Bestsol, trParentnodes, trChildnodes, trNamenodes\n",
    "end\n"
   ]
  },
  {
   "cell_type": "markdown",
   "metadata": {},
   "source": [
    "### Affichage du résultat final"
   ]
  },
  {
   "cell_type": "code",
   "execution_count": 8,
   "metadata": {},
   "outputs": [
    {
     "name": "stdout",
     "output_type": "stream",
     "text": [
      "non sondable\n",
      "non sondable\n",
      "TA\n",
      "non sondable\n",
      "TA\n",
      "TR\n",
      "non sondable\n",
      "non sondable\n",
      "non sondable\n",
      "TA\n",
      "TO\n",
      "TO\n",
      "TR\n",
      "\n",
      "FINISHED\n",
      "\n",
      "******\n",
      "\n",
      "Optimal value = 65.0\n",
      "\n",
      "Optimal x=[0.0, 1.0, 0.0, 1.0]\n"
     ]
    },
    {
     "data": {
      "image/svg+xml": [
       "<?xml version=\"1.0\" encoding=\"utf-8\"?>\n",
       "<svg xmlns=\"http://www.w3.org/2000/svg\" xmlns:xlink=\"http://www.w3.org/1999/xlink\" width=\"600\" height=\"400\" viewBox=\"0 0 2400 1600\">\n",
       "<defs>\n",
       "  <clipPath id=\"clip540\">\n",
       "    <rect x=\"0\" y=\"0\" width=\"2400\" height=\"1600\"/>\n",
       "  </clipPath>\n",
       "</defs>\n",
       "<path clip-path=\"url(#clip540)\" d=\"\n",
       "M0 1600 L2400 1600 L2400 0 L0 0  Z\n",
       "  \" fill=\"#ffffff\" fill-rule=\"evenodd\" fill-opacity=\"1\"/>\n",
       "<defs>\n",
       "  <clipPath id=\"clip541\">\n",
       "    <rect x=\"480\" y=\"0\" width=\"1681\" height=\"1600\"/>\n",
       "  </clipPath>\n",
       "</defs>\n",
       "<path clip-path=\"url(#clip540)\" d=\"\n",
       "M447.244 1552.76 L1952.76 1552.76 L1952.76 47.2441 L447.244 47.2441  Z\n",
       "  \" fill=\"#ffffff\" fill-rule=\"evenodd\" fill-opacity=\"1\"/>\n",
       "<defs>\n",
       "  <clipPath id=\"clip542\">\n",
       "    <rect x=\"447\" y=\"47\" width=\"1507\" height=\"1507\"/>\n",
       "  </clipPath>\n",
       "</defs>\n",
       "<polyline clip-path=\"url(#clip542)\" style=\"stroke:#000000; stroke-linecap:butt; stroke-linejoin:round; stroke-width:4; stroke-opacity:1; fill:none\" points=\"\n",
       "  1193.31,262.317 1192.6,273.167 1190.54,283.822 1187.22,294.296 1182.76,304.603 1177.24,314.759 1170.77,324.777 1163.44,334.672 1155.37,344.458 1146.64,354.151 \n",
       "  1137.36,363.764 1127.63,373.312 1117.56,382.809 1107.23,392.27 1096.75,401.709 1086.22,411.141 1075.74,420.581 1065.41,430.042 1055.33,439.539 1045.6,449.087 \n",
       "  1036.32,458.7 1027.59,468.392 1019.52,478.179 1012.2,488.074 1005.72,498.092 1000.2,508.248 995.736,518.555 992.421,529.029 990.358,539.684 989.649,550.534 \n",
       "  \n",
       "  \"/>\n",
       "<polyline clip-path=\"url(#clip542)\" style=\"stroke:#000000; stroke-linecap:butt; stroke-linejoin:round; stroke-width:4; stroke-opacity:1; fill:none\" points=\"\n",
       "  989.649,550.534 989.713,558.435 989.9,566.5 990.201,574.715 990.606,583.068 991.107,591.549 991.695,600.143 992.359,608.841 993.092,617.629 993.884,626.495 \n",
       "  994.726,635.427 995.609,644.414 996.524,653.443 997.462,662.502 998.413,671.579 999.368,680.662 1000.32,689.739 1001.26,698.798 1002.17,707.827 1003.05,716.814 \n",
       "  1003.9,725.747 1004.69,734.613 1005.42,743.401 1006.09,752.098 1006.67,760.693 1007.17,769.173 1007.58,777.527 1007.88,785.742 1008.07,793.806 1008.13,801.708 \n",
       "  \n",
       "  \"/>\n",
       "<polyline clip-path=\"url(#clip542)\" style=\"stroke:#000000; stroke-linecap:butt; stroke-linejoin:round; stroke-width:4; stroke-opacity:1; fill:none\" points=\"\n",
       "  989.649,550.534 989.066,560.935 987.372,571.264 984.651,581.526 980.983,591.726 976.452,601.871 971.139,611.965 965.126,622.013 958.497,632.021 951.333,641.995 \n",
       "  943.716,651.939 935.73,661.859 927.455,671.76 918.975,681.648 910.371,691.528 901.726,701.406 893.123,711.286 884.642,721.174 876.368,731.075 868.381,740.995 \n",
       "  860.765,750.939 853.6,760.913 846.971,770.921 840.959,780.97 835.646,791.063 831.114,801.208 827.447,811.408 824.725,821.671 823.032,832 822.449,842.401 \n",
       "  \n",
       "  \"/>\n",
       "<polyline clip-path=\"url(#clip542)\" style=\"stroke:#000000; stroke-linecap:butt; stroke-linejoin:round; stroke-width:4; stroke-opacity:1; fill:none\" points=\"\n",
       "  822.449,842.401 821.891,850.651 820.269,858.728 817.663,866.645 814.15,874.414 809.81,882.049 804.721,889.563 798.963,896.967 792.614,904.275 785.753,911.5 \n",
       "  778.459,918.655 770.809,925.752 762.885,932.804 754.763,939.824 746.523,946.825 738.243,953.819 730.003,960.82 721.882,967.84 713.957,974.893 706.308,981.99 \n",
       "  699.013,989.144 692.152,996.369 685.803,1003.68 680.045,1011.08 674.956,1018.6 670.616,1026.23 667.104,1034 664.497,1041.92 662.875,1049.99 662.317,1058.24 \n",
       "  \n",
       "  \"/>\n",
       "<polyline clip-path=\"url(#clip542)\" style=\"stroke:#000000; stroke-linecap:butt; stroke-linejoin:round; stroke-width:4; stroke-opacity:1; fill:none\" points=\"\n",
       "  822.449,842.401 822.445,850.944 822.433,859.669 822.414,868.561 822.389,877.607 822.358,886.793 822.321,896.107 822.28,905.534 822.234,915.063 822.184,924.678 \n",
       "  822.132,934.366 822.076,944.115 822.019,953.911 821.961,963.741 821.901,973.59 821.842,983.447 821.782,993.296 821.724,1003.13 821.666,1012.92 821.611,1022.67 \n",
       "  821.559,1032.36 821.509,1041.97 821.463,1051.5 821.422,1060.93 821.385,1070.24 821.354,1079.43 821.328,1088.48 821.31,1097.37 821.298,1106.09 821.294,1114.64 \n",
       "  \n",
       "  \"/>\n",
       "<polyline clip-path=\"url(#clip542)\" style=\"stroke:#000000; stroke-linecap:butt; stroke-linejoin:round; stroke-width:4; stroke-opacity:1; fill:none\" points=\"\n",
       "  1193.31,262.317 1193.97,273.511 1195.87,284.596 1198.93,295.582 1203.05,306.476 1208.14,317.286 1214.12,328.019 1220.87,338.685 1228.32,349.291 1236.37,359.845 \n",
       "  1244.93,370.354 1253.91,380.828 1263.21,391.274 1272.74,401.7 1282.41,412.114 1292.13,422.524 1301.8,432.937 1311.33,443.363 1320.63,453.809 1329.6,464.283 \n",
       "  1338.16,474.793 1346.21,485.346 1353.66,495.952 1360.42,506.618 1366.39,517.352 1371.49,528.161 1375.61,539.055 1378.67,550.041 1380.57,561.126 1381.22,572.32 \n",
       "  \n",
       "  \"/>\n",
       "<polyline clip-path=\"url(#clip542)\" style=\"stroke:#000000; stroke-linecap:butt; stroke-linejoin:round; stroke-width:4; stroke-opacity:1; fill:none\" points=\"\n",
       "  1381.22,572.32 1381.79,582.256 1383.44,592.113 1386.09,601.895 1389.66,611.608 1394.07,621.259 1399.24,630.854 1405.09,640.399 1411.54,649.899 1418.52,659.36 \n",
       "  1425.93,668.788 1433.7,678.19 1441.76,687.571 1450.01,696.938 1458.38,706.295 1466.8,715.649 1475.17,725.007 1483.43,734.373 1491.48,743.754 1499.25,753.156 \n",
       "  1506.67,762.584 1513.64,772.046 1520.09,781.545 1525.94,791.09 1531.11,800.685 1535.52,810.336 1539.09,820.05 1541.74,829.832 1543.39,839.688 1543.96,849.624 \n",
       "  \n",
       "  \"/>\n",
       "<polyline clip-path=\"url(#clip542)\" style=\"stroke:#000000; stroke-linecap:butt; stroke-linejoin:round; stroke-width:4; stroke-opacity:1; fill:none\" points=\"\n",
       "  1543.96,849.624 1544.21,856.227 1544.93,862.888 1546.1,869.602 1547.67,876.366 1549.6,883.175 1551.88,890.025 1554.45,896.911 1557.28,903.83 1560.35,910.776 \n",
       "  1563.61,917.746 1567.02,924.736 1570.56,931.74 1574.19,938.755 1577.87,945.777 1581.57,952.801 1585.25,959.822 1588.88,966.838 1592.42,973.842 1595.84,980.832 \n",
       "  1599.09,987.802 1602.16,994.748 1604.99,1001.67 1607.57,1008.55 1609.84,1015.4 1611.78,1022.21 1613.35,1028.98 1614.51,1035.69 1615.24,1042.35 1615.49,1048.95 \n",
       "  \n",
       "  \"/>\n",
       "<polyline clip-path=\"url(#clip542)\" style=\"stroke:#000000; stroke-linecap:butt; stroke-linejoin:round; stroke-width:4; stroke-opacity:1; fill:none\" points=\"\n",
       "  1615.49,1048.95 1615.91,1058.71 1617.15,1068.5 1619.14,1078.34 1621.82,1088.21 1625.13,1098.12 1629.01,1108.06 1633.41,1118.03 1638.25,1128.02 1643.49,1138.03 \n",
       "  1649.05,1148.06 1654.89,1158.1 1660.94,1168.15 1667.14,1178.22 1673.43,1188.28 1679.74,1198.35 1686.03,1208.42 1692.23,1218.48 1698.28,1228.54 1704.11,1238.58 \n",
       "  1709.68,1248.61 1714.92,1258.62 1719.76,1268.61 1724.15,1278.58 1728.04,1288.51 1731.35,1298.42 1734.03,1308.3 1736.02,1318.13 1737.26,1327.93 1737.68,1337.68 \n",
       "  \n",
       "  \"/>\n",
       "<polyline clip-path=\"url(#clip542)\" style=\"stroke:#000000; stroke-linecap:butt; stroke-linejoin:round; stroke-width:4; stroke-opacity:1; fill:none\" points=\"\n",
       "  1615.49,1048.95 1615.15,1056.42 1614.17,1063.9 1612.6,1071.41 1610.48,1078.95 1607.86,1086.5 1604.79,1094.07 1601.32,1101.65 1597.49,1109.25 1593.36,1116.86 \n",
       "  1588.96,1124.48 1584.34,1132.1 1579.57,1139.74 1574.67,1147.38 1569.7,1155.02 1564.71,1162.66 1559.74,1170.3 1554.84,1177.94 1550.06,1185.58 1545.45,1193.2 \n",
       "  1541.05,1200.82 1536.91,1208.43 1533.08,1216.03 1529.61,1223.62 1526.54,1231.18 1523.92,1238.73 1521.81,1246.27 1520.23,1253.78 1519.26,1261.26 1518.92,1268.73 \n",
       "  \n",
       "  \"/>\n",
       "<polyline clip-path=\"url(#clip542)\" style=\"stroke:#000000; stroke-linecap:butt; stroke-linejoin:round; stroke-width:4; stroke-opacity:1; fill:none\" points=\"\n",
       "  1543.96,849.624 1544.63,857.504 1546.59,864.985 1549.74,872.097 1553.99,878.87 1559.23,885.333 1565.38,891.515 1572.34,897.447 1580.01,903.158 1588.3,908.676 \n",
       "  1597.12,914.032 1606.36,919.256 1615.94,924.376 1625.75,929.422 1635.71,934.425 1645.72,939.412 1655.68,944.414 1665.49,949.46 1675.07,954.581 1684.31,959.804 \n",
       "  1693.13,965.16 1701.42,970.679 1709.09,976.389 1716.05,982.321 1722.2,988.504 1727.44,994.967 1731.69,1001.74 1734.84,1008.85 1736.8,1016.33 1737.47,1024.21 \n",
       "  \n",
       "  \"/>\n",
       "<polyline clip-path=\"url(#clip542)\" style=\"stroke:#000000; stroke-linecap:butt; stroke-linejoin:round; stroke-width:4; stroke-opacity:1; fill:none\" points=\"\n",
       "  1381.22,572.32 1380.98,580.856 1380.29,589.515 1379.16,598.288 1377.65,607.165 1375.78,616.137 1373.59,625.195 1371.11,634.331 1368.38,643.534 1365.43,652.797 \n",
       "  1362.29,662.11 1358.99,671.463 1355.58,680.848 1352.08,690.256 1348.54,699.678 1344.97,709.104 1341.43,718.526 1337.93,727.933 1334.52,737.319 1331.22,746.672 \n",
       "  1328.08,755.985 1325.13,765.247 1322.4,774.451 1319.92,783.587 1317.73,792.645 1315.86,801.617 1314.35,810.494 1313.22,819.267 1312.53,827.926 1312.29,836.462 \n",
       "  \n",
       "  \"/>\n",
       "<path clip-path=\"url(#clip542)\" d=\"\n",
       "M1209.29 262.317 L1201.3 248.477 L1185.32 248.477 L1177.33 262.317 L1185.32 276.158 L1201.3 276.158 L1209.29 262.317 L1209.29 262.317  Z\n",
       "  \" fill=\"#009af9\" fill-rule=\"evenodd\" fill-opacity=\"1\"/>\n",
       "<polyline clip-path=\"url(#clip542)\" style=\"stroke:#000000; stroke-linecap:butt; stroke-linejoin:round; stroke-width:4; stroke-opacity:1; fill:none\" points=\"\n",
       "  1209.29,262.317 1201.3,248.477 1185.32,248.477 1177.33,262.317 1185.32,276.158 1201.3,276.158 1209.29,262.317 \n",
       "  \"/>\n",
       "<path clip-path=\"url(#clip542)\" d=\"\n",
       "M1005.63 550.534 L997.639 536.693 L981.658 536.693 L973.667 550.534 L981.658 564.374 L997.639 564.374 L1005.63 550.534 L1005.63 550.534  Z\n",
       "  \" fill=\"#009af9\" fill-rule=\"evenodd\" fill-opacity=\"1\"/>\n",
       "<polyline clip-path=\"url(#clip542)\" style=\"stroke:#000000; stroke-linecap:butt; stroke-linejoin:round; stroke-width:4; stroke-opacity:1; fill:none\" points=\"\n",
       "  1005.63,550.534 997.639,536.693 981.658,536.693 973.667,550.534 981.658,564.374 997.639,564.374 1005.63,550.534 \n",
       "  \"/>\n",
       "<path clip-path=\"url(#clip542)\" d=\"\n",
       "M1024.11 801.708 L1016.12 787.867 L1000.14 787.867 L992.151 801.708 L1000.14 815.548 L1016.12 815.548 L1024.11 801.708 L1024.11 801.708  Z\n",
       "  \" fill=\"#009af9\" fill-rule=\"evenodd\" fill-opacity=\"1\"/>\n",
       "<polyline clip-path=\"url(#clip542)\" style=\"stroke:#000000; stroke-linecap:butt; stroke-linejoin:round; stroke-width:4; stroke-opacity:1; fill:none\" points=\"\n",
       "  1024.11,801.708 1016.12,787.867 1000.14,787.867 992.151,801.708 1000.14,815.548 1016.12,815.548 1024.11,801.708 \n",
       "  \"/>\n",
       "<path clip-path=\"url(#clip542)\" d=\"\n",
       "M838.431 842.401 L830.44 828.56 L814.458 828.56 L806.467 842.401 L814.458 856.241 L830.44 856.241 L838.431 842.401 L838.431 842.401  Z\n",
       "  \" fill=\"#009af9\" fill-rule=\"evenodd\" fill-opacity=\"1\"/>\n",
       "<polyline clip-path=\"url(#clip542)\" style=\"stroke:#000000; stroke-linecap:butt; stroke-linejoin:round; stroke-width:4; stroke-opacity:1; fill:none\" points=\"\n",
       "  838.431,842.401 830.44,828.56 814.458,828.56 806.467,842.401 814.458,856.241 830.44,856.241 838.431,842.401 \n",
       "  \"/>\n",
       "<path clip-path=\"url(#clip542)\" d=\"\n",
       "M678.299 1058.24 L670.308 1044.4 L654.326 1044.4 L646.336 1058.24 L654.326 1072.08 L670.308 1072.08 L678.299 1058.24 L678.299 1058.24  Z\n",
       "  \" fill=\"#009af9\" fill-rule=\"evenodd\" fill-opacity=\"1\"/>\n",
       "<polyline clip-path=\"url(#clip542)\" style=\"stroke:#000000; stroke-linecap:butt; stroke-linejoin:round; stroke-width:4; stroke-opacity:1; fill:none\" points=\"\n",
       "  678.299,1058.24 670.308,1044.4 654.326,1044.4 646.336,1058.24 654.326,1072.08 670.308,1072.08 678.299,1058.24 \n",
       "  \"/>\n",
       "<path clip-path=\"url(#clip542)\" d=\"\n",
       "M837.275 1114.64 L829.285 1100.8 L813.303 1100.8 L805.312 1114.64 L813.303 1128.48 L829.285 1128.48 L837.275 1114.64 L837.275 1114.64  Z\n",
       "  \" fill=\"#009af9\" fill-rule=\"evenodd\" fill-opacity=\"1\"/>\n",
       "<polyline clip-path=\"url(#clip542)\" style=\"stroke:#000000; stroke-linecap:butt; stroke-linejoin:round; stroke-width:4; stroke-opacity:1; fill:none\" points=\"\n",
       "  837.275,1114.64 829.285,1100.8 813.303,1100.8 805.312,1114.64 813.303,1128.48 829.285,1128.48 837.275,1114.64 \n",
       "  \"/>\n",
       "<path clip-path=\"url(#clip542)\" d=\"\n",
       "M1397.21 572.32 L1389.21 558.48 L1373.23 558.48 L1365.24 572.32 L1373.23 586.16 L1389.21 586.16 L1397.21 572.32 L1397.21 572.32  Z\n",
       "  \" fill=\"#009af9\" fill-rule=\"evenodd\" fill-opacity=\"1\"/>\n",
       "<polyline clip-path=\"url(#clip542)\" style=\"stroke:#000000; stroke-linecap:butt; stroke-linejoin:round; stroke-width:4; stroke-opacity:1; fill:none\" points=\"\n",
       "  1397.21,572.32 1389.21,558.48 1373.23,558.48 1365.24,572.32 1373.23,586.16 1389.21,586.16 1397.21,572.32 \n",
       "  \"/>\n",
       "<path clip-path=\"url(#clip542)\" d=\"\n",
       "M1559.94 849.624 L1551.95 835.784 L1535.97 835.784 L1527.98 849.624 L1535.97 863.465 L1551.95 863.465 L1559.94 849.624 L1559.94 849.624  Z\n",
       "  \" fill=\"#009af9\" fill-rule=\"evenodd\" fill-opacity=\"1\"/>\n",
       "<polyline clip-path=\"url(#clip542)\" style=\"stroke:#000000; stroke-linecap:butt; stroke-linejoin:round; stroke-width:4; stroke-opacity:1; fill:none\" points=\"\n",
       "  1559.94,849.624 1551.95,835.784 1535.97,835.784 1527.98,849.624 1535.97,863.465 1551.95,863.465 1559.94,849.624 \n",
       "  \"/>\n",
       "<path clip-path=\"url(#clip542)\" d=\"\n",
       "M1631.47 1048.95 L1623.48 1035.11 L1607.49 1035.11 L1599.5 1048.95 L1607.49 1062.79 L1623.48 1062.79 L1631.47 1048.95 L1631.47 1048.95  Z\n",
       "  \" fill=\"#009af9\" fill-rule=\"evenodd\" fill-opacity=\"1\"/>\n",
       "<polyline clip-path=\"url(#clip542)\" style=\"stroke:#000000; stroke-linecap:butt; stroke-linejoin:round; stroke-width:4; stroke-opacity:1; fill:none\" points=\"\n",
       "  1631.47,1048.95 1623.48,1035.11 1607.49,1035.11 1599.5,1048.95 1607.49,1062.79 1623.48,1062.79 1631.47,1048.95 \n",
       "  \"/>\n",
       "<path clip-path=\"url(#clip542)\" d=\"\n",
       "M1765.51 1337.68 L1751.6 1313.59 L1723.77 1313.59 L1709.86 1337.68 L1723.77 1361.78 L1751.6 1361.78 L1765.51 1337.68 L1765.51 1337.68  Z\n",
       "  \" fill=\"#009af9\" fill-rule=\"evenodd\" fill-opacity=\"1\"/>\n",
       "<polyline clip-path=\"url(#clip542)\" style=\"stroke:#000000; stroke-linecap:butt; stroke-linejoin:round; stroke-width:4; stroke-opacity:1; fill:none\" points=\"\n",
       "  1765.51,1337.68 1751.6,1313.59 1723.77,1313.59 1709.86,1337.68 1723.77,1361.78 1751.6,1361.78 1765.51,1337.68 \n",
       "  \"/>\n",
       "<path clip-path=\"url(#clip542)\" d=\"\n",
       "M1546.75 1268.73 L1532.83 1244.63 L1505.01 1244.63 L1491.09 1268.73 L1505.01 1292.82 L1532.83 1292.82 L1546.75 1268.73 L1546.75 1268.73  Z\n",
       "  \" fill=\"#009af9\" fill-rule=\"evenodd\" fill-opacity=\"1\"/>\n",
       "<polyline clip-path=\"url(#clip542)\" style=\"stroke:#000000; stroke-linecap:butt; stroke-linejoin:round; stroke-width:4; stroke-opacity:1; fill:none\" points=\"\n",
       "  1546.75,1268.73 1532.83,1244.63 1505.01,1244.63 1491.09,1268.73 1505.01,1292.82 1532.83,1292.82 1546.75,1268.73 \n",
       "  \"/>\n",
       "<path clip-path=\"url(#clip542)\" d=\"\n",
       "M1765.3 1024.21 L1751.38 1000.11 L1723.56 1000.11 L1709.65 1024.21 L1723.56 1048.31 L1751.38 1048.31 L1765.3 1024.21 L1765.3 1024.21  Z\n",
       "  \" fill=\"#009af9\" fill-rule=\"evenodd\" fill-opacity=\"1\"/>\n",
       "<polyline clip-path=\"url(#clip542)\" style=\"stroke:#000000; stroke-linecap:butt; stroke-linejoin:round; stroke-width:4; stroke-opacity:1; fill:none\" points=\"\n",
       "  1765.3,1024.21 1751.38,1000.11 1723.56,1000.11 1709.65,1024.21 1723.56,1048.31 1751.38,1048.31 1765.3,1024.21 \n",
       "  \"/>\n",
       "<path clip-path=\"url(#clip542)\" d=\"\n",
       "M1340.11 836.462 L1326.2 812.364 L1298.37 812.364 L1284.46 836.462 L1298.37 860.56 L1326.2 860.56 L1340.11 836.462 L1340.11 836.462  Z\n",
       "  \" fill=\"#009af9\" fill-rule=\"evenodd\" fill-opacity=\"1\"/>\n",
       "<polyline clip-path=\"url(#clip542)\" style=\"stroke:#000000; stroke-linecap:butt; stroke-linejoin:round; stroke-width:4; stroke-opacity:1; fill:none\" points=\"\n",
       "  1340.11,836.462 1326.2,812.364 1298.37,812.364 1284.46,836.462 1298.37,860.56 1326.2,860.56 1340.11,836.462 \n",
       "  \"/>\n",
       "<circle clip-path=\"url(#clip542)\" style=\"fill:#009af9; stroke:none; fill-opacity:1\" cx=\"1193.31\" cy=\"262.317\" r=\"2\"/>\n",
       "<circle clip-path=\"url(#clip542)\" style=\"fill:#009af9; stroke:none; fill-opacity:1\" cx=\"989.649\" cy=\"550.534\" r=\"2\"/>\n",
       "<circle clip-path=\"url(#clip542)\" style=\"fill:#009af9; stroke:none; fill-opacity:1\" cx=\"1008.13\" cy=\"801.708\" r=\"2\"/>\n",
       "<circle clip-path=\"url(#clip542)\" style=\"fill:#009af9; stroke:none; fill-opacity:1\" cx=\"822.449\" cy=\"842.401\" r=\"2\"/>\n",
       "<circle clip-path=\"url(#clip542)\" style=\"fill:#009af9; stroke:none; fill-opacity:1\" cx=\"662.317\" cy=\"1058.24\" r=\"2\"/>\n",
       "<circle clip-path=\"url(#clip542)\" style=\"fill:#009af9; stroke:none; fill-opacity:1\" cx=\"821.294\" cy=\"1114.64\" r=\"2\"/>\n",
       "<circle clip-path=\"url(#clip542)\" style=\"fill:#009af9; stroke:none; fill-opacity:1\" cx=\"1381.22\" cy=\"572.32\" r=\"2\"/>\n",
       "<circle clip-path=\"url(#clip542)\" style=\"fill:#009af9; stroke:none; fill-opacity:1\" cx=\"1543.96\" cy=\"849.624\" r=\"2\"/>\n",
       "<circle clip-path=\"url(#clip542)\" style=\"fill:#009af9; stroke:none; fill-opacity:1\" cx=\"1615.49\" cy=\"1048.95\" r=\"2\"/>\n",
       "<circle clip-path=\"url(#clip542)\" style=\"fill:#009af9; stroke:none; fill-opacity:1\" cx=\"1737.68\" cy=\"1337.68\" r=\"2\"/>\n",
       "<circle clip-path=\"url(#clip542)\" style=\"fill:#009af9; stroke:none; fill-opacity:1\" cx=\"1518.92\" cy=\"1268.73\" r=\"2\"/>\n",
       "<circle clip-path=\"url(#clip542)\" style=\"fill:#009af9; stroke:none; fill-opacity:1\" cx=\"1737.47\" cy=\"1024.21\" r=\"2\"/>\n",
       "<circle clip-path=\"url(#clip542)\" style=\"fill:#009af9; stroke:none; fill-opacity:1\" cx=\"1312.29\" cy=\"836.462\" r=\"2\"/>\n",
       "<path clip-path=\"url(#clip540)\" d=\"M1184.9 273.994 L1191.58 273.994 L1191.58 250.924 L1184.31 252.382 L1184.31 248.656 L1191.54 247.197 L1195.63 247.197 L1195.63 273.994 L1202.32 273.994 L1202.32 277.437 L1184.9 277.437 L1184.9 273.994 Z\" fill=\"#000000\" fill-rule=\"evenodd\" fill-opacity=\"1\" /><path clip-path=\"url(#clip540)\" d=\"M984.97 562.21 L999.249 562.21 L999.249 565.654 L980.048 565.654 L980.048 562.21 Q982.377 559.8 986.388 555.749 Q990.418 551.678 991.451 550.503 Q993.416 548.296 994.186 546.776 Q994.975 545.237 994.975 543.759 Q994.975 541.348 993.274 539.829 Q991.593 538.31 988.879 538.31 Q986.955 538.31 984.808 538.978 Q982.681 539.647 980.25 541.004 L980.25 536.872 Q982.721 535.88 984.868 535.373 Q987.015 534.867 988.798 534.867 Q993.497 534.867 996.292 537.216 Q999.087 539.566 999.087 543.495 Q999.087 545.359 998.378 547.04 Q997.69 548.701 995.846 550.969 Q995.34 551.557 992.626 554.372 Q989.912 557.167 984.97 562.21 Z\" fill=\"#000000\" fill-rule=\"evenodd\" fill-opacity=\"1\" /><path clip-path=\"url(#clip540)\" d=\"M1011.85 800.523 Q1014.79 801.151 1016.43 803.136 Q1018.09 805.121 1018.09 808.037 Q1018.09 812.513 1015.01 814.964 Q1011.93 817.415 1006.26 817.415 Q1004.35 817.415 1002.33 817.03 Q1000.32 816.666 998.177 815.916 L998.177 811.967 Q999.879 812.959 1001.9 813.465 Q1003.93 813.972 1006.14 813.972 Q1009.99 813.972 1011.99 812.453 Q1014.02 810.934 1014.02 808.037 Q1014.02 805.364 1012.13 803.865 Q1010.27 802.346 1006.93 802.346 L1003.4 802.346 L1003.4 798.983 L1007.09 798.983 Q1010.11 798.983 1011.71 797.788 Q1013.31 796.573 1013.31 794.305 Q1013.31 791.975 1011.65 790.74 Q1010.01 789.484 1006.93 789.484 Q1005.25 789.484 1003.32 789.849 Q1001.4 790.213 999.089 790.983 L999.089 787.337 Q1001.42 786.689 1003.44 786.365 Q1005.49 786.041 1007.29 786.041 Q1011.95 786.041 1014.66 788.167 Q1017.38 790.274 1017.38 793.879 Q1017.38 796.391 1015.94 798.133 Q1014.5 799.854 1011.85 800.523 Z\" fill=\"#000000\" fill-rule=\"evenodd\" fill-opacity=\"1\" /><path clip-path=\"url(#clip540)\" d=\"M825.082 830.845 L814.752 846.988 L825.082 846.988 L825.082 830.845 M824.009 827.281 L829.153 827.281 L829.153 846.988 L833.467 846.988 L833.467 850.391 L829.153 850.391 L829.153 857.521 L825.082 857.521 L825.082 850.391 L811.43 850.391 L811.43 846.441 L824.009 827.281 Z\" fill=\"#000000\" fill-rule=\"evenodd\" fill-opacity=\"1\" /><path clip-path=\"url(#clip540)\" d=\"M653.81 1043.12 L669.872 1043.12 L669.872 1046.57 L657.557 1046.57 L657.557 1053.98 Q658.449 1053.68 659.34 1053.53 Q660.231 1053.37 661.122 1053.37 Q666.186 1053.37 669.143 1056.15 Q672.1 1058.92 672.1 1063.66 Q672.1 1068.54 669.062 1071.26 Q666.024 1073.95 660.494 1073.95 Q658.59 1073.95 656.605 1073.63 Q654.641 1073.3 652.534 1072.65 L652.534 1068.54 Q654.357 1069.54 656.302 1070.02 Q658.246 1070.51 660.413 1070.51 Q663.917 1070.51 665.963 1068.66 Q668.009 1066.82 668.009 1063.66 Q668.009 1060.5 665.963 1058.66 Q663.917 1056.82 660.413 1056.82 Q658.773 1056.82 657.132 1057.18 Q655.512 1057.55 653.81 1058.31 L653.81 1043.12 Z\" fill=\"#000000\" fill-rule=\"evenodd\" fill-opacity=\"1\" /><path clip-path=\"url(#clip540)\" d=\"M821.648 1113.01 Q818.894 1113.01 817.273 1114.89 Q815.673 1116.77 815.673 1120.05 Q815.673 1123.32 817.273 1125.22 Q818.894 1127.1 821.648 1127.1 Q824.403 1127.1 826.003 1125.22 Q827.623 1123.32 827.623 1120.05 Q827.623 1116.77 826.003 1114.89 Q824.403 1113.01 821.648 1113.01 M829.77 1100.18 L829.77 1103.91 Q828.231 1103.18 826.651 1102.8 Q825.092 1102.41 823.552 1102.41 Q819.501 1102.41 817.354 1105.15 Q815.228 1107.88 814.924 1113.41 Q816.119 1111.65 817.921 1110.72 Q819.724 1109.77 821.891 1109.77 Q826.449 1109.77 829.082 1112.54 Q831.735 1115.29 831.735 1120.05 Q831.735 1124.71 828.98 1127.53 Q826.226 1130.34 821.648 1130.34 Q816.402 1130.34 813.628 1126.33 Q810.853 1122.3 810.853 1114.67 Q810.853 1107.5 814.255 1103.24 Q817.658 1098.97 823.39 1098.97 Q824.93 1098.97 826.489 1099.27 Q828.069 1099.58 829.77 1100.18 Z\" fill=\"#000000\" fill-rule=\"evenodd\" fill-opacity=\"1\" /><path clip-path=\"url(#clip540)\" d=\"M1371.5 557.2 L1390.95 557.2 L1390.95 558.942 L1379.97 587.44 L1375.69 587.44 L1386.02 560.643 L1371.5 560.643 L1371.5 557.2 Z\" fill=\"#000000\" fill-rule=\"evenodd\" fill-opacity=\"1\" /><path clip-path=\"url(#clip540)\" d=\"M1543.96 850.384 Q1541.04 850.384 1539.36 851.943 Q1537.7 853.503 1537.7 856.237 Q1537.7 858.972 1539.36 860.531 Q1541.04 862.091 1543.96 862.091 Q1546.87 862.091 1548.56 860.531 Q1550.24 858.951 1550.24 856.237 Q1550.24 853.503 1548.56 851.943 Q1546.89 850.384 1543.96 850.384 M1539.87 848.642 Q1537.23 847.994 1535.75 846.191 Q1534.3 844.388 1534.3 841.796 Q1534.3 838.17 1536.87 836.064 Q1539.46 833.957 1543.96 833.957 Q1548.47 833.957 1551.05 836.064 Q1553.62 838.17 1553.62 841.796 Q1553.62 844.388 1552.14 846.191 Q1550.68 847.994 1548.07 848.642 Q1551.03 849.331 1552.67 851.336 Q1554.33 853.341 1554.33 856.237 Q1554.33 860.633 1551.63 862.982 Q1548.96 865.332 1543.96 865.332 Q1538.96 865.332 1536.26 862.982 Q1533.59 860.633 1533.59 856.237 Q1533.59 853.341 1535.25 851.336 Q1536.91 849.331 1539.87 848.642 M1538.37 842.181 Q1538.37 844.53 1539.83 845.847 Q1541.3 847.163 1543.96 847.163 Q1546.59 847.163 1548.07 845.847 Q1549.57 844.53 1549.57 842.181 Q1549.57 839.831 1548.07 838.515 Q1546.59 837.198 1543.96 837.198 Q1541.3 837.198 1539.83 838.515 Q1538.37 839.831 1538.37 842.181 Z\" fill=\"#000000\" fill-rule=\"evenodd\" fill-opacity=\"1\" /><path clip-path=\"url(#clip540)\" d=\"M1607 1063.45 L1607 1059.72 Q1608.54 1060.45 1610.12 1060.83 Q1611.7 1061.22 1613.22 1061.22 Q1617.27 1061.22 1619.39 1058.5 Q1621.54 1055.77 1621.85 1050.22 Q1620.67 1051.96 1618.87 1052.89 Q1617.07 1053.82 1614.88 1053.82 Q1610.34 1053.82 1607.69 1051.09 Q1605.05 1048.34 1605.05 1043.58 Q1605.05 1038.92 1607.81 1036.1 Q1610.56 1033.29 1615.14 1033.29 Q1620.39 1033.29 1623.14 1037.32 Q1625.92 1041.33 1625.92 1048.98 Q1625.92 1056.13 1622.51 1060.41 Q1619.13 1064.66 1613.4 1064.66 Q1611.86 1064.66 1610.28 1064.36 Q1608.7 1064.05 1607 1063.45 M1615.14 1050.62 Q1617.9 1050.62 1619.5 1048.74 Q1621.12 1046.86 1621.12 1043.58 Q1621.12 1040.31 1619.5 1038.43 Q1617.9 1036.53 1615.14 1036.53 Q1612.39 1036.53 1610.77 1038.43 Q1609.17 1040.31 1609.17 1043.58 Q1609.17 1046.86 1610.77 1048.74 Q1612.39 1050.62 1615.14 1050.62 Z\" fill=\"#000000\" fill-rule=\"evenodd\" fill-opacity=\"1\" /><path clip-path=\"url(#clip540)\" d=\"M1715.53 1349.36 L1722.22 1349.36 L1722.22 1326.29 L1714.95 1327.75 L1714.95 1324.02 L1722.18 1322.56 L1726.27 1322.56 L1726.27 1349.36 L1732.95 1349.36 L1732.95 1352.8 L1715.53 1352.8 L1715.53 1349.36 Z\" fill=\"#000000\" fill-rule=\"evenodd\" fill-opacity=\"1\" /><path clip-path=\"url(#clip540)\" d=\"M1749.97 1325.26 Q1746.81 1325.26 1745.21 1328.38 Q1743.63 1331.47 1743.63 1337.71 Q1743.63 1343.93 1745.21 1347.05 Q1746.81 1350.15 1749.97 1350.15 Q1753.15 1350.15 1754.73 1347.05 Q1756.33 1343.93 1756.33 1337.71 Q1756.33 1331.47 1754.73 1328.38 Q1753.15 1325.26 1749.97 1325.26 M1749.97 1322.02 Q1755.05 1322.02 1757.72 1326.05 Q1760.42 1330.06 1760.42 1337.71 Q1760.42 1345.35 1757.72 1349.38 Q1755.05 1353.39 1749.97 1353.39 Q1744.88 1353.39 1742.19 1349.38 Q1739.52 1345.35 1739.52 1337.71 Q1739.52 1330.06 1742.19 1326.05 Q1744.88 1322.02 1749.97 1322.02 Z\" fill=\"#000000\" fill-rule=\"evenodd\" fill-opacity=\"1\" /><path clip-path=\"url(#clip540)\" d=\"M1497.31 1280.4 L1503.99 1280.4 L1503.99 1257.33 L1496.72 1258.79 L1496.72 1255.07 L1503.95 1253.61 L1508.04 1253.61 L1508.04 1280.4 L1514.73 1280.4 L1514.73 1283.85 L1497.31 1283.85 L1497.31 1280.4 Z\" fill=\"#000000\" fill-rule=\"evenodd\" fill-opacity=\"1\" /><path clip-path=\"url(#clip540)\" d=\"M1523.7 1280.4 L1530.38 1280.4 L1530.38 1257.33 L1523.11 1258.79 L1523.11 1255.07 L1530.34 1253.61 L1534.43 1253.61 L1534.43 1280.4 L1541.12 1280.4 L1541.12 1283.85 L1523.7 1283.85 L1523.7 1280.4 Z\" fill=\"#000000\" fill-rule=\"evenodd\" fill-opacity=\"1\" /><path clip-path=\"url(#clip540)\" d=\"M1716.02 1035.89 L1722.71 1035.89 L1722.71 1012.82 L1715.44 1014.28 L1715.44 1010.55 L1722.67 1009.09 L1726.76 1009.09 L1726.76 1035.89 L1733.44 1035.89 L1733.44 1039.33 L1716.02 1039.33 L1716.02 1035.89 Z\" fill=\"#000000\" fill-rule=\"evenodd\" fill-opacity=\"1\" /><path clip-path=\"url(#clip540)\" d=\"M1745.23 1035.89 L1759.51 1035.89 L1759.51 1039.33 L1740.31 1039.33 L1740.31 1035.89 Q1742.64 1033.48 1746.65 1029.43 Q1750.68 1025.36 1751.71 1024.18 Q1753.68 1021.97 1754.45 1020.45 Q1755.24 1018.92 1755.24 1017.44 Q1755.24 1015.03 1753.53 1013.51 Q1751.85 1011.99 1749.14 1011.99 Q1747.21 1011.99 1745.07 1012.66 Q1742.94 1013.33 1740.51 1014.68 L1740.51 1010.55 Q1742.98 1009.56 1745.13 1009.05 Q1747.28 1008.55 1749.06 1008.55 Q1753.76 1008.55 1756.55 1010.89 Q1759.35 1013.24 1759.35 1017.17 Q1759.35 1019.04 1758.64 1020.72 Q1757.95 1022.38 1756.11 1024.65 Q1755.6 1025.24 1752.89 1028.05 Q1750.17 1030.85 1745.23 1035.89 Z\" fill=\"#000000\" fill-rule=\"evenodd\" fill-opacity=\"1\" /><path clip-path=\"url(#clip540)\" d=\"M1290.42 848.139 L1297.1 848.139 L1297.1 825.069 L1289.83 826.527 L1289.83 822.8 L1297.06 821.342 L1301.16 821.342 L1301.16 848.139 L1307.84 848.139 L1307.84 851.582 L1290.42 851.582 L1290.42 848.139 Z\" fill=\"#000000\" fill-rule=\"evenodd\" fill-opacity=\"1\" /><path clip-path=\"url(#clip540)\" d=\"M1328.5 835.277 Q1331.44 835.905 1333.08 837.89 Q1334.74 839.875 1334.74 842.791 Q1334.74 847.268 1331.66 849.719 Q1328.58 852.169 1322.91 852.169 Q1321.01 852.169 1318.98 851.784 Q1316.97 851.42 1314.83 850.67 L1314.83 846.721 Q1316.53 847.713 1318.55 848.22 Q1320.58 848.726 1322.79 848.726 Q1326.64 848.726 1328.64 847.207 Q1330.67 845.688 1330.67 842.791 Q1330.67 840.118 1328.78 838.619 Q1326.92 837.1 1323.58 837.1 L1320.05 837.1 L1320.05 833.738 L1323.74 833.738 Q1326.76 833.738 1328.36 832.543 Q1329.96 831.327 1329.96 829.059 Q1329.96 826.73 1328.3 825.494 Q1326.66 824.238 1323.58 824.238 Q1321.9 824.238 1319.97 824.603 Q1318.05 824.967 1315.74 825.737 L1315.74 822.091 Q1318.07 821.443 1320.09 821.119 Q1322.14 820.795 1323.94 820.795 Q1328.6 820.795 1331.31 822.922 Q1334.03 825.028 1334.03 828.634 Q1334.03 831.145 1332.59 832.887 Q1331.15 834.609 1328.5 835.277 Z\" fill=\"#000000\" fill-rule=\"evenodd\" fill-opacity=\"1\" /></svg>\n"
      ]
     },
     "execution_count": 8,
     "metadata": {},
     "output_type": "execute_result"
    }
   ],
   "source": [
    "filename = \"../instancesETU/KNAPnewformat/test.opb.txt\"\n",
    "BestProfit, Bestsol, trParentnodes, trChildnodes, trNamenodes = SolveKnapInstance(filename)\n",
    "println(\"\\n******\\n\\nOptimal value = \", BestProfit, \"\\n\\nOptimal x=\", Bestsol)\n",
    "graphplot(trParentnodes, trChildnodes, names=trNamenodes, method=:tree)"
   ]
  }
 ],
 "metadata": {
  "kernelspec": {
   "display_name": "Julia 1.6.4",
   "language": "julia",
   "name": "julia-1.6"
  },
  "language_info": {
   "file_extension": ".jl",
   "mimetype": "application/julia",
   "name": "julia",
   "version": "1.6.4"
  }
 },
 "nbformat": 4,
 "nbformat_minor": 4
}
