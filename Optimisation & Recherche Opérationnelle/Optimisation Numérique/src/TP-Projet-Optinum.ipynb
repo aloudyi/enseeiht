{
 "cells": [
  {
   "cell_type": "markdown",
   "metadata": {},
   "source": [
    "<center>\n",
    "<h1> TP-Projet d'optimisation numérique </h1>\n",
    "<h1> Année 2020-2021 - 2e année département Sciences du Numérique </h1>\n",
    "<h1> Noms:  </h1>\n",
    "<h1> Prénoms:  </h1>    \n",
    "</center>"
   ]
  },
  {
   "cell_type": "markdown",
   "metadata": {},
   "source": [
    "# Algorithme de Newton\n",
    "## Implémentation \n",
    " \n",
    "1. Coder l’algorithme de Newton local tel que décrit dans la section *Algorithme de Newton* (fichier `Algorithme_De_Newton.jl`)\n",
    "\n",
    "2. Tester l’algorithme sur les fonctions $f_{1}$ , $f_{2}$ avec les points initiaux $x_{011}$ , $x_{012}$ (pour $f_{1}$ ) et $x_{021}$ , $x_{022}$ , $x_{023}$ (pour $f_{2}$ ) donnés en Annexe A."
   ]
  },
  {
   "cell_type": "code",
   "execution_count": 1,
   "metadata": {},
   "outputs": [
    {
     "name": "stdout",
     "output_type": "stream",
     "text": [
      "\u001b[32m\u001b[1m      Status\u001b[22m\u001b[39m `C:\\Users\\zenon\\.julia\\environments\\v1.6\\Project.toml`\n",
      " \u001b[90m [13f3f980] \u001b[39mCairoMakie v0.6.6\n",
      " \u001b[90m [e2554f3b] \u001b[39mClp v0.9.1\n",
      " \u001b[90m [5ae59095] \u001b[39mColors v0.12.8\n",
      " \u001b[90m [a2cc645c] \u001b[39mGraphPlot v0.5.0\n",
      " \u001b[90m [bd48cda9] \u001b[39mGraphRecipes v0.5.8\n",
      " \u001b[90m [7073ff75] \u001b[39mIJulia v1.23.2\n",
      " \u001b[90m [4076af6c] \u001b[39mJuMP v0.22.1\n",
      " \u001b[90m [093fc24a] \u001b[39mLightGraphs v1.3.5\n",
      " \u001b[90m [91a5bcdd] \u001b[39mPlots v1.25.2\n"
     ]
    }
   ],
   "source": [
    "using Pkg\n",
    "Pkg.status()"
   ]
  },
  {
   "cell_type": "code",
   "execution_count": 2,
   "metadata": {},
   "outputs": [
    {
     "name": "stdout",
     "output_type": "stream",
     "text": [
      "-------------------------------------------------------------------------\n",
      "\u001b[34m\u001b[1mRésultats de : Newton appliqué à f0 au point initial -1.5707963267948966:\u001b[22m\u001b[39m\n",
      "  * xsol = -1.5707963267948966\n",
      "  * f(xsol) = -1.0\n",
      "  * nb_iters = 0\n",
      "  * flag = 1\n",
      "  * sol_exacte : -1.5707963267948966\n",
      "-------------------------------------------------------------------------\n",
      "\u001b[34m\u001b[1mRésultats de : Newton appliqué à f0 au point initial -1.0707963267948966:\u001b[22m\u001b[39m\n",
      "  * xsol = -1.5707963267949088\n",
      "  * f(xsol) = -1.0\n",
      "  * nb_iters = 3\n",
      "  * flag = 2\n",
      "  * sol_exacte : -1.5707963267948966\n",
      "-------------------------------------------------------------------------\n",
      "\u001b[34m\u001b[1mRésultats de : Newton appliqué à f0 au point initial 1.5707963267948966:\u001b[22m\u001b[39m\n",
      "  * xsol = 1.5707963267948966\n",
      "  * f(xsol) = 1.0\n",
      "  * nb_iters = 0\n",
      "  * flag = 1\n",
      "  * sol_exacte : -1.5707963267948966\n"
     ]
    }
   ],
   "source": [
    "include(\"Algorithme_De_Newton.jl\")\n",
    "function my_afficher_resultats(algo,nom_fct,point_init,xmin,fxmin,flag,sol_exacte,nbiters)\n",
    "\tprintln(\"-------------------------------------------------------------------------\")\n",
    "\tprintstyled(\"Résultats de : \",algo, \" appliqué à \",nom_fct, \" au point initial \", point_init, \":\\n\",bold=true,color=:blue)\n",
    "\tprintln(\"  * xsol = \",xmin)\n",
    "\tprintln(\"  * f(xsol) = \",fxmin)\n",
    "\tprintln(\"  * nb_iters = \",nbiters)\n",
    "\tprintln(\"  * flag = \",flag)\n",
    "\tprintln(\"  * sol_exacte : \", sol_exacte)\n",
    "end\n",
    "\n",
    "# Fonction f0\n",
    "# -----------\n",
    "f0(x) =  sin(x)\n",
    "# la gradient de la fonction f0\n",
    "grad_f0(x) = cos(x)\n",
    "# la hessienne de la fonction f0\n",
    "hess_f0(x) = -sin(x)\n",
    "sol_exacte = -pi/2\n",
    "options = []\n",
    "\n",
    "x0 = sol_exacte\n",
    "xmin,f_min,flag,nb_iters = Algorithme_De_Newton(f0,grad_f0,hess_f0,x0,options)\n",
    "my_afficher_resultats(\"Newton\",\"f0\",x0,xmin,f_min,flag,sol_exacte,nb_iters)\n",
    "x0 = -pi/2+0.5\n",
    "xmin,f_min,flag,nb_iters = Algorithme_De_Newton(f0,grad_f0,hess_f0,x0,options)\n",
    "my_afficher_resultats(\"Newton\",\"f0\",x0,xmin,f_min,flag,sol_exacte,nb_iters)\n",
    "x0 = pi/2\n",
    "xmin,f_min,flag,nb_iters = Algorithme_De_Newton(f0,grad_f0,hess_f0,x0,options)\n",
    "my_afficher_resultats(\"Newton\",\"f0\",x0,xmin,f_min,flag,sol_exacte,nb_iters)"
   ]
  },
  {
   "cell_type": "markdown",
   "metadata": {},
   "source": [
    "## Interprétation \n",
    "\n",
    "Justifier\n",
    "\n",
    "1. les résultats obtenus pour l'exemple $f_0$ ci-dessus;\n",
    "\n",
    "2. que l’algorithme implémenté converge en une itération pour $f_{1}$;\n",
    "\n",
    "3. que l’algorithme puisse ne pas converger pour $f_{2}$ avec certains points initiaux."
   ]
  },
  {
   "cell_type": "markdown",
   "metadata": {},
   "source": [
    "## Vos réponses?\n",
    "\n",
    "1. Les résultats obtenus pour l'exemple $f_0$ sont cohérents. Sauf pour le dernier, où le point initial de l'application est un point maximum, est donc de gradient nul. Or l'une de nos contraintes repose sur le gradient nul.\n",
    "2. Le gradient de la fonction $f_1$ est linéaire, puisque $f_1$ est quadratique, est donc on tombe directement sur la bonne solution au bout d'une seule itération.\n",
    "3. Pour la fonction $f_2$, le gradient est quadratique, ceci peut agrandir le pas, de façon à ce que l'on puisse rater le minmum, c'est le cas dans le troisième test si on teste pas le critère d'arrêt du gradient, on passe de [-4.99999958629818e9, 8.673617379884035e-19] à [-5.00000310473568e9, 2.5000031047354057e19]. (Une différence de 1e38)"
   ]
  },
  {
   "cell_type": "markdown",
   "metadata": {},
   "source": [
    "# Régions de confiance avec pas de cauchy \n",
    "\n",
    "## Implémentation \n",
    "\n",
    "1. Coder l'algorithme du pas de Cauchy d’un sous-problème de\n",
    "régions de confiance (fichier `Pas_De_Cauchy.jl`). Tester sur les quadratiques proposées en Annexe B.\n",
    "\n",
    "2. Coder l'algorithme de régions de confiance (fichier `Regions_De_Confiance.jl`). Tester sur les problèmes de l’Annexe A."
   ]
  },
  {
   "cell_type": "code",
   "execution_count": 12,
   "metadata": {},
   "outputs": [
    {
     "name": "stdout",
     "output_type": "stream",
     "text": [
      "-------------------------------------------------------------------------\n",
      "\u001b[34m\u001b[1mRésultats de : Cauchy appliqué à Quadratique1 avec un delta =  1:\u001b[22m\u001b[39m\n",
      "  * xsol = [0, 0]\n",
      "  * flag = 0\n",
      "  * sol_exacte : [NaN, NaN]\n",
      "-------------------------------------------------------------------------\n",
      "\u001b[34m\u001b[1mRésultats de : Newton appliqué à Quadratique2 avec un delta =  1:\u001b[22m\u001b[39m\n",
      "  * xsol = [-0.9230769230769234, -0.30769230769230776]\n",
      "  * flag = 1\n",
      "  * sol_exacte : [-0.9486832980505138, -0.31622776601683794]\n",
      "-------------------------------------------------------------------------\n",
      "\u001b[34m\u001b[1mRésultats de : Newton appliqué à Quadratique3 avec un delta =  5:\u001b[22m\u001b[39m\n",
      "  * xsol = [4.47213595499958, -2.23606797749979]\n",
      "  * flag = -1\n",
      "  * sol_exacte : [4.47213595499958, -2.23606797749979]\n"
     ]
    }
   ],
   "source": [
    "include(\"Pas_De_Cauchy.jl\")\n",
    "function my_afficher_resultats(algo,nom_fct,s,e,delta,sol_exacte)\n",
    "\tprintln(\"-------------------------------------------------------------------------\")\n",
    "\tprintstyled(\"Résultats de : \",algo, \" appliqué à \",nom_fct, \" avec un delta =  \", delta, \":\\n\",bold=true,color=:blue)\n",
    "\tprintln(\"  * xsol = \",s)\n",
    "\tprintln(\"  * flag = \",e)\n",
    "\tprintln(\"  * sol_exacte : \", sol_exacte)\n",
    "end\n",
    "\n",
    "# Quadratique 1\n",
    "# -----------\n",
    "g1 = [0; 0]\n",
    "H1 = [7 0; 0 2]\n",
    "# Quadratique 2\n",
    "# -----------\n",
    "g2 = [6; 2]\n",
    "H2 = [7 0; 0 2]\n",
    "# Quadratique 3\n",
    "# -----------\n",
    "g3 = [-2; 1]\n",
    "H3 = [-2 0; 0 10]\n",
    "\n",
    "delta1 = 1 \n",
    "delta2 = 1\n",
    "delta3 = 5\n",
    "s, e = Pas_De_Cauchy(g1,H1,delta1)\n",
    "my_afficher_resultats(\"Cauchy\",\"Quadratique1\",s,e,delta1,-(delta1/norm(g1))*g1)\n",
    "s, e = Pas_De_Cauchy(g2,H2,delta2)\n",
    "my_afficher_resultats(\"Newton\",\"Quadratique2\",s,e,delta2,-(delta2/norm(g2))*g2)\n",
    "s, e = Pas_De_Cauchy(g3,H3,delta3)\n",
    "my_afficher_resultats(\"Newton\",\"Quadratique3\",s,e,delta3,-(delta3/norm(g3))*g3)"
   ]
  },
  {
   "cell_type": "markdown",
   "metadata": {},
   "source": [
    "## Interprétation \n",
    "\n",
    "1. Quelle relation lie la fonction test $f_1$ et son modèle de Taylor à l’ordre 2 ? Comparer alors les performances de Newton et RC-Pas de Cauchy sur cette fonction.\n",
    "\n",
    "2. Le rayon initial de la région de confiance est un paramètre important dans l’analyse\n",
    "de la performance de l’algorithme. Sur quel(s) autre(s) paramètre(s) peut-on jouer\n",
    "pour essayer d’améliorer cette performance ? Étudier l’influence d’au moins deux de\n",
    "ces paramètres."
   ]
  },
  {
   "cell_type": "markdown",
   "metadata": {},
   "source": [
    "## Vos réponses?\n"
   ]
  },
  {
   "cell_type": "markdown",
   "metadata": {},
   "source": [
    "1. L'approximation de Taylor à l'ordre 2 est une approximation en un polynôme, or la fonction $f_1$ est déjà polynômiale. Donc il y a égalité entre les deux.\n",
    "2. On peut améliorer la performance de l'algorithme de la région de confiance en influant sur les paramètres $\\gamma$ et $\\eta$.\n",
    "* Si on agrandit la valeur de $\\eta_2$ est très grand on peut toujours avoir le ration dans l'intervalle $[\\eta_1, \\eta_2]$, on stagnera alors sur le même rayon de confiance.  \n",
    "* Si d'autre part on diminue $\\eta_2$, on a plus de chance de réduire la région de confiance et donc de converger plus rapidement, cependant la précision peut être détériorée.\n",
    "* Si on joue sur les valeurs des $\\gamma$ on ne fait que réduire ou augmenter le rayon de confiance, et donc selon la valeur du rayon, si il grandit on aurait des résultats plus au moins cohérent selon la nature de la fonction à minimiser, une fonction avec des puits peut retourner un minimum local, au lieu du global.\n"
   ]
  },
  {
   "cell_type": "markdown",
   "metadata": {},
   "source": [
    "# Régions de confiance avec gradient conjugué tronqué\n",
    "\n",
    "## Implémentation \n",
    "\n",
    "1. Implémenter l’algorithme du Gradient Conjugué Tronqué, en se basant sur le cours (fichier `Gradient_Conjugue_Tronque.jl`).\n",
    "On validera les résultats sur les fonctions de l’Annexe C.\n",
    "\n",
    "2. Intégrer finalement l’algorithme du Gradient Conjugué Tronqué dans le code de\n",
    "régions de confiance, et appliquer ce code pour résoudre les exemples proposés en\n",
    "Annexe A."
   ]
  },
  {
   "cell_type": "code",
   "execution_count": 14,
   "metadata": {},
   "outputs": [
    {
     "name": "stdout",
     "output_type": "stream",
     "text": [
      "-------------------------------------------------------------------------\n",
      "\u001b[34m\u001b[1mRésultats de : GCT appliqué à Quadratique4:\u001b[22m\u001b[39m\n",
      "  * xsol = [0.0, 0.0]\n",
      "-------------------------------------------------------------------------\n",
      "\u001b[34m\u001b[1mRésultats de : GCT appliqué à Quadratique5:\u001b[22m\u001b[39m\n",
      "  * xsol = [-1.7241516768124303, 1.0135585801249403]\n",
      "-------------------------------------------------------------------------\n",
      "\u001b[34m\u001b[1mRésultats de : GCT appliqué à Quadratique6:\u001b[22m\u001b[39m\n",
      "  * xsol = [-0.5, 0.0]\n"
     ]
    }
   ],
   "source": [
    "include(\"Gradient_Conjugue_Tronque.jl\")\n",
    "function my_afficher_resultats(algo,nom_fct,s,)\n",
    "\tprintln(\"-------------------------------------------------------------------------\")\n",
    "\tprintstyled(\"Résultats de : \",algo, \" appliqué à \",nom_fct, \":\\n\",bold=true,color=:blue)\n",
    "\tprintln(\"  * xsol = \",s)\n",
    "end\n",
    "\n",
    "# Quadratique 4\n",
    "# -----------\n",
    "g4 = [0; 0]\n",
    "H4 = [-2 0; 0 10]\n",
    "# Quadratique 5\n",
    "# -----------\n",
    "g5 = [3; 2]\n",
    "H5 = [4 6; 6 5]\n",
    "# Quadratique 6\n",
    "# -----------\n",
    "g6 = [2; 0]\n",
    "H6 = [4 0; 0 -15]\n",
    "\n",
    "s = Gradient_Conjugue_Tronque(g4,H4,[])\n",
    "my_afficher_resultats(\"GCT\",\"Quadratique4\",s)\n",
    "s = Gradient_Conjugue_Tronque(g5,H5,[])\n",
    "my_afficher_resultats(\"GCT\",\"Quadratique5\",s)\n",
    "s = Gradient_Conjugue_Tronque(g6,H6,[])\n",
    "my_afficher_resultats(\"GCT\",\"Quadratique6\",s)"
   ]
  },
  {
   "cell_type": "code",
   "execution_count": 42,
   "metadata": {},
   "outputs": [
    {
     "ename": "LoadError",
     "evalue": "UndefVarError: delta not defined",
     "output_type": "error",
     "traceback": [
      "UndefVarError: delta not defined",
      "",
      "Stacktrace:",
      " [1] Regions_De_Confiance(algo::String, f::typeof(f1), gradf::typeof(grad_f1), hessf::typeof(hess_f1), x0::Vector{Int64}, options::Vector{Any})",
      "   @ Main C:\\Users\\zenon\\Desktop\\n7\\Optimisation & Recherche Opérationnelle\\Optimisation Numérique\\optinum\\src\\Regions_De_Confiance.jl:148",
      " [2] top-level scope",
      "   @ In[42]:32",
      " [3] eval",
      "   @ .\\boot.jl:360 [inlined]",
      " [4] include_string(mapexpr::typeof(REPL.softscope), mod::Module, code::String, filename::String)",
      "   @ Base .\\loading.jl:1116"
     ]
    }
   ],
   "source": [
    "include(\"Regions_De_Confiance.jl\")\n",
    "function my_afficher_resultats(algo,nom_fct,point_init,xmin,fxmin,flag,sol_exacte,nbiters)\n",
    "\tprintln(\"-------------------------------------------------------------------------\")\n",
    "\tprintstyled(\"Résultats de : \",algo, \" appliqué à \",nom_fct, \" au point initial \", point_init, \":\\n\",bold=true,color=:blue)\n",
    "\tprintln(\"  * xsol = \",xmin)\n",
    "\tprintln(\"  * f(xsol) = \",fxmin)\n",
    "\tprintln(\"  * nb_iters = \",nbiters)\n",
    "\tprintln(\"  * flag = \",flag)\n",
    "\tprintln(\"  * sol_exacte : \", sol_exacte)\n",
    "end\n",
    "\n",
    "f1(x) = 2*(x[1]+x[2]+x[3]-3)^2 + (x[1]-x[2])^2 + (x[2]-x[3])^2\n",
    "grad_f1(x) = [4*(x[1]+x[2]+x[3]-3) + 2*(x[1]-x[2]); 4*(x[1]+x[2]+x[3]-3) - 2*(x[1]-x[2])+2*(x[2]-x[3]); 4*(x[1]+x[2]+x[3]-3)-2*(x[2]-x[3])]\n",
    "hess_f1(x) = [6 2 4; 2 8 2; 4 2 6]\n",
    "x011 = [1; 0; 0]\n",
    "x012 = [10; 3; -2.2]\n",
    "\n",
    "\n",
    "# Fonction f2\n",
    "# -----------\n",
    "f2(x) = 100*(x[2]-x[1]^2)^2+(1-x[1])^2\n",
    "grad_f2(x) = [-400*x[1]*(x[2]-x[1]^2)-2*(1-x[1]) ; 200*(x[2]-x[1]^2)]\n",
    "hess_f2(x) = [-400*(x[2]-3*x[1]^2)+2  -400*x[1]; -400*x[1]  200]\n",
    "x021 = [-1.2; 1]\n",
    "x022 = [10; 0]\n",
    "x023 = [0; ((1/200)+(1/(10^12)))]\n",
    "\n",
    "sol_exacte = [1,1,1]\n",
    "options = []\n",
    "\n",
    "x0 = sol_exacte\n",
    "xmin,f_min,flag,nb_iters = Regions_De_Confiance(\"gct\",f1,grad_f1,hess_f1,x011,options)\n",
    "my_afficher_resultats(\"Region de Confiance avec gct\",\"f1\",x0,xmin,f_min,flag,sol_exacte,nb_iters)\n",
    "xmin,f_min,flag,nb_iters = Regions_De_Confiance(\"gct\",f1,grad_f1,hess_f1,x012,options)\n",
    "my_afficher_resultats(\"Region de Confiance avec gct\",\"f1\",x0,xmin,f_min,flag,sol_exacte,nb_iters)\n",
    "\n",
    "xmin,f_min,flag,nb_iters = Regions_De_Confiance(\"gct\",f2,grad_f2,hess_f2,x021,options)\n",
    "my_afficher_resultats(\"Region de Confiance avec gct\",\"f2\",x0,xmin,f_min,flag,sol_exacte,nb_iters)\n",
    "xmin,f_min,flag,nb_iters = Regions_De_Confiance(\"gct\",f2,grad_f2,hess_f2,x022,options)\n",
    "my_afficher_resultats(\"Region de Confiance avec gct\",\"f2\",x0,xmin,f_min,flag,sol_exacte,nb_iters)\n",
    "xmin,f_min,flag,nb_iters = Regions_De_Confiance(\"gct\",f2,grad_f2,hess_f2,x023,options)\n",
    "my_afficher_resultats(\"Region de Confiance avec gct\",\"f2\",x0,xmin,f_min,flag,sol_exacte,nb_iters)"
   ]
  },
  {
   "cell_type": "markdown",
   "metadata": {},
   "source": [
    "## Interprétation  \n",
    "\n",
    "1. Comparer la décroissance obtenue avec celle du pas de Cauchy, en retournant, dans\n",
    "un premier temps le dernier itéré admissible à courbure positive (c’est à dire, que si\n",
    "l’une ou l’autre des deux conditions (b) ou (d) sont rencontrées dans l’algorithme 3,\n",
    "alors on ne calcule pas ``σ_{j}`` et on retourne le dernier itéré ``s_{j}`` directement).\n",
    "\n",
    "2. Comparer la décroissance obtenue avec celle du pas de Cauchy, en imposant la sortie\n",
    "dans l’algorithme 3 au bout d’une itération seulement. Que remarquez vous ?\n",
    "\n",
    "3. Comparer la décroissance obtenue avec celle du pas de Cauchy dans le cas général.\n",
    "\n",
    "4. Quels sont les avantages et inconvénients des deux approches ?"
   ]
  },
  {
   "cell_type": "markdown",
   "metadata": {},
   "source": [
    "## Vos réponses?\n"
   ]
  },
  {
   "cell_type": "markdown",
   "metadata": {},
   "source": [
    "2. Pour la décroissance avec une itération pour le gradient conjugué tronqué on remarque que les valeurs de la décroissance sont identiques. Ceci s'explique par le fait qu'on résoud la même équation de minmisation de pas dans les deux algorithmes."
   ]
  },
  {
   "cell_type": "code",
   "execution_count": 65,
   "metadata": {},
   "outputs": [
    {
     "name": "stdout",
     "output_type": "stream",
     "text": [
      "7.372097807744857\n",
      "0.10742692818191027\n",
      "0.03507077649482947\n",
      "0.016243907949021797\n",
      "0.006798238848393779\n",
      "0.004141252968691823\n",
      "7.372097807744857\n",
      "0.10742692818191027\n",
      "0.03507077649482947\n",
      "0.016243907949021797\n",
      "0.006798238848393779\n",
      "0.004141252968691823\n"
     ]
    },
    {
     "data": {
      "text/plain": [
       "([1.0902628334040312, 1.0121755024711798, 0.9339236573214158], 0.014865371620022327, 0, 5, Any[])"
      ]
     },
     "execution_count": 65,
     "metadata": {},
     "output_type": "execute_result"
    }
   ],
   "source": [
    "include(\"Region_Test.jl\")\n",
    "include(\"GCT_Test.jl\")\n",
    "xmin,f_min,flag,nb_iters,L = Regions_De_Confiance(\"gct\",f1,grad_f1,hess_f1,[1,0,0],[])\n",
    "xmin,f_min,flag,nb_iters,L = Regions_De_Confiance(\"cauchy\",f1,grad_f1,hess_f1,[1,0,0],[])"
   ]
  },
  {
   "cell_type": "markdown",
   "metadata": {},
   "source": [
    "3. Dans le cas général la décroissance du gct devient nulle au bout de la deuxième itération."
   ]
  },
  {
   "cell_type": "markdown",
   "metadata": {},
   "source": [
    "# Lagrangien augmenté\n",
    "\n",
    "## Implémentation\n",
    "1.Choisir des critères d’arrêt pour la convergence de l'algorithme.\n",
    "\n",
    "2.Implémenter l'algorithme du lagrangien augmenté, en utilisant les différentes méthodes\n",
    "qui ont été vues en première partie pour la résolution de la suite de problémes sans\n",
    "contraintes (fichier `Lagrangien_Augmente.jl`)\n",
    " \n",
    "3.Tester les différentes variantes sur les problèmes en Annexe D.\n",
    " "
   ]
  },
  {
   "cell_type": "code",
   "execution_count": 68,
   "metadata": {},
   "outputs": [
    {
     "name": "stdout",
     "output_type": "stream",
     "text": [
      "-------------------------------------------------------------------------\n",
      "\u001b[34m\u001b[1mRésultats de : Lagrangien_Augmente avec gct appliqué à f1 au point initial [0, 1, 1]:\u001b[22m\u001b[39m\n",
      "  * xsol = [0.5000000001207721, 1.2499999999396139, 0.5000000001207724]\n",
      "  * f(xsol) = 2.2499999989130504\n",
      "  * nb_iters = 7\n",
      "  * flag = 1\n",
      "-------------------------------------------------------------------------\n",
      "\u001b[34m\u001b[1mRésultats de : Lagrangien_Augmente avec newton appliqué à f1 au point initial [0, 1, 1]:\u001b[22m\u001b[39m\n",
      "  * xsol = [0.5000000001207721, 1.2499999999396139, 0.5000000001207724]\n",
      "  * f(xsol) = 2.2499999989130504\n",
      "  * nb_iters = 7\n",
      "  * flag = 1\n",
      "-------------------------------------------------------------------------\n",
      "\u001b[34m\u001b[1mRésultats de : Lagrangien_Augmente avec gct appliqué à f1 au point initial [0.5, 1.25, 1.0]:\u001b[22m\u001b[39m\n",
      "  * xsol = [0.5000002494183194, 1.2499998752908403, 0.5000002494183194]\n",
      "  * f(xsol) = 2.249997755235685\n",
      "  * nb_iters = 5\n",
      "  * flag = 3\n",
      "-------------------------------------------------------------------------\n",
      "\u001b[34m\u001b[1mRésultats de : Lagrangien_Augmente avec newton appliqué à f1 au point initial [0.5, 1.25, 1.0]:\u001b[22m\u001b[39m\n",
      "  * xsol = [0.5000002494183194, 1.2499998752908403, 0.5000002494183193]\n",
      "  * f(xsol) = 2.249997755235685\n",
      "  * nb_iters = 5\n",
      "  * flag = 0\n",
      "-------------------------------------------------------------------------\n",
      "\u001b[34m\u001b[1mRésultats de : Lagrangien_Augmente avec newton appliqué à f2 au point initial [1, 0]:\u001b[22m\u001b[39m\n",
      "  * xsol = [0.00685162880289845, -1.2247257060849719]\n",
      "  * f(xsol) = 150.99314832701768\n",
      "  * nb_iters = 8\n",
      "  * flag = 1\n",
      "-------------------------------------------------------------------------\n",
      "\u001b[34m\u001b[1mRésultats de : Lagrangien_Augmente avec cauchy appliqué à f2 au point initial [1, 0]:\u001b[22m\u001b[39m\n",
      "  * xsol = [0.9072339605040038, 0.8227554563184942]\n",
      "  * f(xsol) = 0.00861565066015449\n",
      "  * nb_iters = 17\n",
      "  * flag = 1\n",
      "-------------------------------------------------------------------------\n",
      "\u001b[34m\u001b[1mRésultats de : Lagrangien_Augmente avec gct appliqué à f2 au point initial [0.8660254037844386, 0.8660254037844386]:\u001b[22m\u001b[39m\n",
      "  * xsol = [0.9072339605060928, 0.8227554563054669]\n",
      "  * f(xsol) = 0.008615650660836534\n",
      "  * nb_iters = 4\n",
      "  * flag = 1\n",
      "-------------------------------------------------------------------------\n",
      "\u001b[34m\u001b[1mRésultats de : Lagrangien_Augmente avec newton appliqué à f2 au point initial [0.8660254037844386, 0.8660254037844386]:\u001b[22m\u001b[39m\n",
      "  * xsol = [0.9072339604484377, 0.822755456200651]\n",
      "  * f(xsol) = 0.008615650671546285\n",
      "  * nb_iters = 4\n",
      "  * flag = 1\n",
      "-------------------------------------------------------------------------\n",
      "\u001b[34m\u001b[1mRésultats de : Lagrangien_Augmente avec cauchy appliqué à f2 au point initial [0.8660254037844386, 0.8660254037844386]:\u001b[22m\u001b[39m\n",
      "  * xsol = [0.9072339605040003, 0.8227554563184961]\n",
      "  * f(xsol) = 0.00861565066015462\n",
      "  * nb_iters = 17\n",
      "  * flag = 1\n"
     ]
    }
   ],
   "source": [
    "include(\"Gradient_Conjugue_Tronque.jl\")\n",
    "include(\"Lagrangien_Augmente.jl\")\n",
    "include(\"Regions_De_Confiance.jl\")\n",
    "function my_afficher_resultats(algo,nom_fct,point_init,xmin,fxmin,flag,nbiters)\n",
    "\tprintln(\"-------------------------------------------------------------------------\")\n",
    "\tprintstyled(\"Résultats de : \",algo, \" appliqué à \",nom_fct, \" au point initial \", point_init, \":\\n\",bold=true,color=:blue)\n",
    "\tprintln(\"  * xsol = \",xmin)\n",
    "\tprintln(\"  * f(xsol) = \",fxmin)\n",
    "\tprintln(\"  * nb_iters = \",nbiters)\n",
    "\tprintln(\"  * flag = \",flag)\n",
    "end\n",
    "\n",
    "\n",
    "# Fonction 1\n",
    "contrainte1(x) = x[1]+x[3]-1\n",
    "grad_contrainte1(x) = [1; 0; 1]\n",
    "hess_contrainte1(x) = [0 0 0; 0 0 0; 0 0 0]\n",
    "xc11 = [0; 1; 1]\n",
    "xc12 = [0.5; 1.25; 1]\n",
    "\n",
    "# Fonction 2\n",
    "contrainte2(x) =  x[1]^2 + x[2]^2 -1.5\n",
    "grad_contrainte2(x) = [2*x[1]; 2*x[2]]\n",
    "hess_contrainte2(x) = [2 0; 0 2]\n",
    "xc21 = [1; 0]\n",
    "xc22 = [sqrt(3)/2; sqrt(3)/2]\n",
    "\n",
    "\n",
    "xmin,f_min,flag,nb_iters = Lagrangien_Augmente(\"gct\",f1,contrainte1,grad_f1,hess_f1,grad_contrainte1,hess_contrainte1,xc11,[])\n",
    "my_afficher_resultats(\"Lagrangien_Augmente avec gct\",\"f1\",xc11,xmin,f_min,flag,nb_iters)\n",
    "xmin,f_min,flag,nb_iters = Lagrangien_Augmente(\"newton\",f1,contrainte1,grad_f1,hess_f1,grad_contrainte1,hess_contrainte1,xc11,[])\n",
    "my_afficher_resultats(\"Lagrangien_Augmente avec newton\",\"f1\",xc11,xmin,f_min,flag,nb_iters)\n",
    "#xmin,f_min,flag,nb_iters = Lagrangien_Augmente(\"cauchy\",f1,contrainte1,grad_f1,hess_f1,grad_contrainte1,hess_contrainte1,xc11,[])\n",
    "#my_afficher_resultats(\"Lagrangien_Augmente avec cauchy\",\"f1\",xc11,xmin,f_min,flag,nb_iters)\n",
    "\n",
    "xmin,f_min,flag,nb_iters = Lagrangien_Augmente(\"gct\",f1,contrainte1,grad_f1,hess_f1,grad_contrainte1,hess_contrainte1,xc12,[])\n",
    "my_afficher_resultats(\"Lagrangien_Augmente avec gct\",\"f1\",xc12,xmin,f_min,flag,nb_iters)\n",
    "xmin,f_min,flag,nb_iters = Lagrangien_Augmente(\"newton\",f1,contrainte1,grad_f1,hess_f1,grad_contrainte1,hess_contrainte1,xc12,[])\n",
    "my_afficher_resultats(\"Lagrangien_Augmente avec newton\",\"f1\",xc12,xmin,f_min,flag,nb_iters)\n",
    "#xmin,f_min,flag,nb_iters = Lagrangien_Augmente(\"cauchy\",f1,contrainte1,grad_f1,hess_f1,grad_contrainte1,hess_contrainte1,xc12,[])\n",
    "#my_afficher_resultats(\"Lagrangien_Augmente avec cauchy\",\"f1\",xc12,xmin,f_min,flag,nb_iters)\n",
    "\n",
    "#xmin,f_min,flag,nb_iters = Lagrangien_Augmente(\"gct\",f2,contrainte2,grad_f2,hess_f2,grad_contrainte2,hess_contrainte2,xc21,[])\n",
    "#my_afficher_resultats(\"Lagrangien_Augmente avec gct\",\"f2\",xc21,xmin,f_min,flag,nb_iters)\n",
    "xmin,f_min,flag,nb_iters = Lagrangien_Augmente(\"newton\",f2,contrainte2,grad_f2,hess_f2,grad_contrainte2,hess_contrainte2,xc21,[])\n",
    "my_afficher_resultats(\"Lagrangien_Augmente avec newton\",\"f2\",xc21,xmin,f_min,flag,nb_iters)\n",
    "xmin,f_min,flag,nb_iters = Lagrangien_Augmente(\"cauchy\",f2,contrainte2,grad_f2,hess_f2,grad_contrainte2,hess_contrainte2,xc21,[])\n",
    "my_afficher_resultats(\"Lagrangien_Augmente avec cauchy\",\"f2\",xc21,xmin,f_min,flag,nb_iters)\n",
    "\n",
    "xmin,f_min,flag,nb_iters = Lagrangien_Augmente(\"gct\",f2,contrainte2,grad_f2,hess_f2,grad_contrainte2,hess_contrainte2,xc22,[])\n",
    "my_afficher_resultats(\"Lagrangien_Augmente avec gct\",\"f2\",xc22,xmin,f_min,flag,nb_iters)\n",
    "xmin,f_min,flag,nb_iters = Lagrangien_Augmente(\"newton\",f2,contrainte2,grad_f2,hess_f2,grad_contrainte2,hess_contrainte2,xc22,[])\n",
    "my_afficher_resultats(\"Lagrangien_Augmente avec newton\",\"f2\",xc22,xmin,f_min,flag,nb_iters)\n",
    "xmin,f_min,flag,nb_iters = Lagrangien_Augmente(\"cauchy\",f2,contrainte2,grad_f2,hess_f2,grad_contrainte2,hess_contrainte2,xc22,[])\n",
    "my_afficher_resultats(\"Lagrangien_Augmente avec cauchy\",\"f2\",xc22,xmin,f_min,flag,nb_iters)\n"
   ]
  },
  {
   "cell_type": "markdown",
   "metadata": {},
   "source": [
    "## Interprétation\n",
    " 1.Commenter les résultats obtenus, en étudiant notamment les valeurs de $\\lambda_k$ et $\\mu_k$.\n",
    " \n",
    " 2.Étudier l'influence du paramètre $\\tau$ dans la performance de l'algorithme.\n",
    " \n",
    " 3.**Supplémentaire** : \n",
    "      Que proposez-vous comme méthode pour la résolution des problèmes avec\n",
    "      des contraintes à la fois d'égalité et d'inégalité ? Implémenter (si le temps le permet)\n",
    "      ce nouvel algorithme\n"
   ]
  },
  {
   "cell_type": "markdown",
   "metadata": {},
   "source": [
    "## Vos réponses?\n"
   ]
  },
  {
   "cell_type": "markdown",
   "metadata": {},
   "source": [
    "2. Plus $\\tau$ augmente, plus la valeur des $\\mu_k$ augmente, et puisque ce denrier est inversement proportionnel à $\\epsilon_k$ et $\\eta_k$, qui gèrent les critères d'arrêt et de mise à jour des multiplicateurs, ces derniers diminuent, et donc on une meilleure précision"
   ]
  }
 ],
 "metadata": {
  "kernelspec": {
   "display_name": "Julia 1.6.4",
   "language": "julia",
   "name": "julia-1.6"
  },
  "language_info": {
   "file_extension": ".jl",
   "mimetype": "application/julia",
   "name": "julia",
   "version": "1.6.4"
  }
 },
 "nbformat": 4,
 "nbformat_minor": 4
}
